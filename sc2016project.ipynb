{
 "cells": [
  {
   "cell_type": "markdown",
   "metadata": {},
   "source": [
    "# Pracenje objekata i prebrojavanje - video"
   ]
  },
  {
   "cell_type": "markdown",
   "metadata": {},
   "source": [
    "## SC04"
   ]
  },
  {
   "cell_type": "code",
   "execution_count": 1,
   "metadata": {
    "collapsed": false
   },
   "outputs": [],
   "source": [
    "import matplotlib.pyplot as plt \n",
    "%matplotlib inline\n",
    "\n",
    "from sklearn.datasets import fetch_mldata\n",
    "import numpy as np\n",
    "\n",
    "mnist = fetch_mldata('MNIST original')\n",
    "data   = mnist.data / 255.0\n",
    "labels = mnist.target.astype('int')"
   ]
  },
  {
   "cell_type": "code",
   "execution_count": 2,
   "metadata": {
    "collapsed": false,
    "scrolled": false
   },
   "outputs": [],
   "source": [
    "train_rank = 5000\n",
    "test_rank = 1\n",
    "#------- MNIST subset --------------------------\n",
    "train_subset = np.random.choice(data.shape[0], train_rank)\n",
    "test_subset = np.random.choice(data.shape[0], test_rank)\n",
    "\n",
    "# train dataset\n",
    "train_data = data[train_subset]\n",
    "train_labels = labels[train_subset]\n",
    "\n",
    "# test dataset\n",
    "test_data = data[test_subset]\n",
    "test_labels = labels[test_subset]"
   ]
  },
  {
   "cell_type": "code",
   "execution_count": 3,
   "metadata": {
    "collapsed": false
   },
   "outputs": [
    {
     "name": "stdout",
     "output_type": "stream",
     "text": [
      "[[0 0 0 1 0 0 0 0 0 0]\n",
      " [0 0 0 0 0 1 0 0 0 0]\n",
      " [0 0 0 0 0 0 0 0 0 1]]\n"
     ]
    }
   ],
   "source": [
    "def to_categorical(labels, n):\n",
    "    retVal = np.zeros((len(labels), n), dtype='int')\n",
    "    ll = np.array(list(enumerate(labels)))\n",
    "    retVal[ll[:,0],ll[:,1]] = 1\n",
    "    return retVal\n",
    "\n",
    "test = [3, 5, 9]\n",
    "print to_categorical(test, 10)"
   ]
  },
  {
   "cell_type": "code",
   "execution_count": 4,
   "metadata": {
    "collapsed": true
   },
   "outputs": [],
   "source": [
    "# train and test to categorical\n",
    "train_out = to_categorical(train_labels, 10)\n",
    "test_out = to_categorical(test_labels, 10)"
   ]
  },
  {
   "cell_type": "code",
   "execution_count": 5,
   "metadata": {
    "collapsed": false
   },
   "outputs": [
    {
     "name": "stderr",
     "output_type": "stream",
     "text": [
      "Using Theano backend.\n"
     ]
    }
   ],
   "source": [
    "#--------------- ANN ------------------\n",
    "from keras.models import Sequential\n",
    "from keras.layers.core import Activation, Dense\n",
    "from keras.optimizers import SGD"
   ]
  },
  {
   "cell_type": "code",
   "execution_count": 6,
   "metadata": {
    "collapsed": true
   },
   "outputs": [],
   "source": [
    "# prepare model\n",
    "model = Sequential()\n",
    "model.add(Dense(70, input_dim=784))\n",
    "model.add(Activation('relu'))\n",
    "model.add(Dense(50))\n",
    "model.add(Activation('tanh'))\n",
    "model.add(Dense(10))\n",
    "model.add(Activation('relu'))"
   ]
  },
  {
   "cell_type": "code",
   "execution_count": 7,
   "metadata": {
    "collapsed": true
   },
   "outputs": [],
   "source": [
    "# compile model with optimizer\n",
    "sgd = SGD(lr=0.1, decay=0.001, momentum=0.7)\n",
    "model.compile(loss='mean_squared_error', optimizer=sgd)"
   ]
  },
  {
   "cell_type": "code",
   "execution_count": 8,
   "metadata": {
    "collapsed": false
   },
   "outputs": [
    {
     "name": "stdout",
     "output_type": "stream",
     "text": [
      "0.00696001319215\n"
     ]
    }
   ],
   "source": [
    "# training\n",
    "training = model.fit(train_data, train_out, nb_epoch=500, batch_size=400, verbose=0)\n",
    "print training.history['loss'][-1]"
   ]
  },
  {
   "cell_type": "code",
   "execution_count": 9,
   "metadata": {
    "collapsed": false
   },
   "outputs": [
    {
     "name": "stdout",
     "output_type": "stream",
     "text": [
      "1/1 [==============================] - 0s\n",
      "test 0.00140934216324\n"
     ]
    }
   ],
   "source": [
    "# evaluate on test data\n",
    "scores = model.evaluate(test_data, test_out, verbose=1)\n",
    "print 'test', scores"
   ]
  },
  {
   "cell_type": "code",
   "execution_count": 10,
   "metadata": {
    "collapsed": false
   },
   "outputs": [
    {
     "name": "stdout",
     "output_type": "stream",
     "text": [
      "4736/5000 [===========================>..] - ETA: 0s \b\b\b\b\b\b\b\b\b\b\b\b\b\b\b\b\b\b\b\b\b\b\b\b\b\b\b\b\b\b\b\b\b\b\b\b\b\b\b\b\b\b\b\b\b\b\b\b\b\b\b\b\b\b\b\b\b\b\b\b\b\b\b\b\b\b\b\b\b\b\b\b\b\b\b\b\b\b\b\b\b\b\b\b\b\b\b\b\b\b\b\b\b\b\b\b\b\b\b\b\b\b\b\b\b\b\b\b\b\b\b\b\b\b\b\b\b\b\b\b\b\b\b\b\b\b\b\b\b\b\b\b\b\b\b\b\b\b\b\b\b\b\b\b\b\b\b\b\b\b\b\b\b\b\b\b\b\b\b\b\b\b\b\b\b\b\b\b\b\b\b\b\b\b\b\b\b\b\b\b\b\b\b\b\b\b\b\b\b\b\b\b\b\b\b\b\b\b\b\b\b\b\b\b\b\b\b\b\b\b\b\b\b\b\b\b\b\b\b\b\b\b\b\b\b\b\b\b\b\b\b\b\b\b\b\b\b\b\b\b\b\b\b\b\b\b\b\b\b\b\b\b\b\b\b\b\b\b\b\b\b\b\b\b\b\b\b\b\b\b\b\b\b\b\b\b\b\b\b\b\b\b\b\b\b\b\b\b\b\b\b\b\b\b\b\b\b\b\b\b\b\b\b\b\b\b\b\b\b\b\b\b\b\b\b\b\b\b\b\b\b\b\b\b\b\b\b\b\b\b\b\b\b\b\b\b\b\b\b\b\b\b\b\b\b\b\b\b\b\b\b\b\b\b\b\b\b\b\b\b\b\b\b\b\b\b\b\b\b\b\b\b\b\b\b\b\b\b\b\b\b\b\b\b\b\b\b\b\b\b\b\b\b\b\b\b\b\b\b\b\b\b\b\b\b\b\b\b\b\b\b\b\b\b\b\b\b\b\b\b\b\b\b\b\b\b\b\b\b\b\b\b\b\b\b\b\b\b\b\b\b\b\b\b\b\b\b\b\b\b\b\b\b\b\b\b\b\b\b\b\b\b\b\b\b\b\b\b\b\b\b\b\b\b\b\b\b\b\b\b\b\b\b\b\b\b\b\b\b\b\b\b\b\b\b\b\b\b\b\b\b\b\b\b\b\b\b\b\b\b\b\b\b\b\b\b\b\b\b\b\b\b\b\b\b\b\b\b\b\b\b\b\b\b\b\b\b\b\b\b\b\b\b\b\b\b\b\b\b\b\b\b\b\b\b\b\b\b\b\b\b\b\b\b\b\b\b\b\b\b\b\b\b\b\b\b\b\b\b\b\b\b\b\b\b\b\b\b\b\b\b\b\b\b\b\b\b\b\b\b\b\b\b\b\b\b\b\b\b\b\b\b\b\b\b\b\b\b\b\b\b\b\b\b\b\b\b\b\b\b\b\b\b\b\b\b\b\b\b\b\b\b\b\b\b\b\b\b\b\b\b\b\b\b\b\b\b\b\b\b\b\b\b\b\b\b\b\b\b\b\b\b\b\b\b\b\b\b\b\b\b\b\b\b\b\b\b\b\b\b\b\b\b\b\b\b\b\b\b\b\b\b\b\b\b\b\b\b\b\b\b\b\b\b\b\b\b\b\b\b\b\b\b\b\b\b\b\b\btrain 0.00694935770482\n"
     ]
    }
   ],
   "source": [
    "# evaluate on train data\n",
    "scores = model.evaluate(train_data, train_out, verbose=1)\n",
    "print 'train', scores"
   ]
  },
  {
   "cell_type": "code",
   "execution_count": null,
   "metadata": {
    "collapsed": true
   },
   "outputs": [],
   "source": []
  },
  {
   "cell_type": "markdown",
   "metadata": {},
   "source": [
    "## SC09"
   ]
  },
  {
   "cell_type": "code",
   "execution_count": 1421,
   "metadata": {
    "collapsed": false
   },
   "outputs": [],
   "source": [
    "import os.path\n",
    "import sys\n",
    "sys.path.append('code/')\n",
    "\n",
    "import cv2\n",
    "from scipy import ndimage\n",
    "from vector import distance, pnt2line\n",
    "from matplotlib.pyplot import cm \n",
    "import itertools\n",
    "import time\n",
    "import math"
   ]
  },
  {
   "cell_type": "code",
   "execution_count": 1422,
   "metadata": {
    "collapsed": false
   },
   "outputs": [],
   "source": [
    "linesExpected = 2\n",
    "lvl = 'lvl3'\n",
    "video = 'video-6'\n",
    "\n",
    "cap = cv2.VideoCapture(\"videos/\" + lvl + \"/\" + video + \".avi\") #output.avi\n",
    "\n",
    "#CV_CAP_PROP_FRAME_COUNT = 7\n",
    "caplength = int(cap.get(7))\n",
    "#capwidth  = int(cap.get(cv2.CV_CAP_PROP_FRAME_WIDTH))\n",
    "#capheight = int(cap.get(cv2.CV_CAP_PROP_FRAME_HEIGHT))\n",
    "#capfps    = cap.get(cv2.CV_CAP_PROP_FPS)\n",
    "\n",
    "#line = [(100,450), (500, 100)]"
   ]
  },
  {
   "cell_type": "code",
   "execution_count": 1423,
   "metadata": {
    "collapsed": true
   },
   "outputs": [],
   "source": [
    "cc = -1\n",
    "def nextId():\n",
    "    global cc\n",
    "    cc += 1\n",
    "    return cc"
   ]
  },
  {
   "cell_type": "markdown",
   "metadata": {},
   "source": [
    "## Kako povezati objekte između frejmova"
   ]
  },
  {
   "cell_type": "code",
   "execution_count": 1424,
   "metadata": {
    "collapsed": true
   },
   "outputs": [],
   "source": [
    "def inRange(r, item, items):\n",
    "    retVal = []\n",
    "    for obj in items:\n",
    "        mdist = distance(item['center'], obj['center'])\n",
    "        if(mdist<r):\n",
    "            retVal.append(obj)\n",
    "    return retVal"
   ]
  },
  {
   "cell_type": "markdown",
   "metadata": {},
   "source": [
    "### Kolor filter"
   ]
  },
  {
   "cell_type": "code",
   "execution_count": 1425,
   "metadata": {
    "collapsed": false
   },
   "outputs": [],
   "source": [
    "# color filter\n",
    "kernel = np.ones((2,2),np.uint8)\n",
    "lower = np.array([230, 230, 230])\n",
    "upper = np.array([255, 255, 255])\n",
    "\n",
    "#boundaries = [([230, 230, 230], [255, 255, 255])]\n"
   ]
  },
  {
   "cell_type": "code",
   "execution_count": 1426,
   "metadata": {
    "collapsed": false
   },
   "outputs": [],
   "source": [
    "#fourcc = cv2.VideoWriter_fourcc(*'XVID')\n",
    "fourcc = cv2.VideoWriter_fourcc(*'XVID')\n",
    "out = cv2.VideoWriter('images/output-rezB.avi',fourcc, 20.0, (640,480))\n",
    "\n",
    "elements = []\n",
    "t =0\n",
    "counter = 0\n",
    "times = []\n",
    "#za dimenzije video zapisa\n",
    "(h,w,c) = (0,0,0)\n",
    "#velicina isecka na frejmu\n",
    "blok_size = (28,28)\n"
   ]
  },
  {
   "cell_type": "code",
   "execution_count": 1427,
   "metadata": {
    "collapsed": true
   },
   "outputs": [],
   "source": [
    "passIDs = {}\n",
    "operations = []\n",
    "\n",
    "def addId(id, patch):\n",
    "    global passIDs\n",
    "    if id not in passIDs:\n",
    "        print 'element with id:' + str(id) + ' passsed line ' + id.split('_')[1]\n",
    "        plt.imsave('output/' + str(id) + '.png', patch)\n",
    "        passIDs[id] = patch\n",
    "        #operations.append(operation)"
   ]
  },
  {
   "cell_type": "code",
   "execution_count": 1428,
   "metadata": {
    "collapsed": true
   },
   "outputs": [],
   "source": [
    "#pauziranje videa\n",
    "p = False\n",
    "def pause():\n",
    "    global p\n",
    "    p = True\n",
    "    while (p):        \n",
    "        k = cv2.waitKey(1) & 0xff\n",
    "        if k == 27:\n",
    "            pause = False\n",
    "            break\n",
    "        "
   ]
  },
  {
   "cell_type": "markdown",
   "metadata": {},
   "source": [
    "## Hough transformacija"
   ]
  },
  {
   "cell_type": "code",
   "execution_count": 1429,
   "metadata": {
    "collapsed": true
   },
   "outputs": [],
   "source": [
    "def calcLineCoeff(x1, y1, x2, y2):\n",
    "    a = np.array([[x1,1],[x2,1]])\n",
    "    b = np.array([y1,y2])\n",
    "    [k, n] = np.linalg.solve(a,b)\n",
    "    #print 'k=' + str(k) + ' n=' + str(n)\n",
    "    return [k, n]"
   ]
  },
  {
   "cell_type": "code",
   "execution_count": 1430,
   "metadata": {
    "collapsed": true
   },
   "outputs": [],
   "source": [
    "linesEndpoints = []\n",
    "\n",
    "def calcLinesEndpoints(label, lines):\n",
    "    groupedLines = [[], []]\n",
    "    for i in range(len(label)):\n",
    "        line = lines[i][0]\n",
    "        #line = lines[i]\n",
    "        groupedLines[int(label[i])].append(line)\n",
    "        \n",
    "    for j in range(len(groupedLines)):\n",
    "        minval = (-1,-1)\n",
    "        maxval = (10000,10000)\n",
    "        lines = groupedLines[j]\n",
    "        for p in lines:\n",
    "            if (p[1]>minval[1]):\n",
    "                minval = (p[0], p[1])\n",
    "            if (p[3]<maxval[1]):\n",
    "                maxval = (p[2], p[3])\n",
    "            \n",
    "            #if (p[0]>minval[0]):\n",
    "            #    minval = (p[0], p[1])\n",
    "            #if (p[0]<maxval[0]):\n",
    "            #    maxval = (p[0], p[1])\n",
    "            \n",
    "        #print maxval,minval\n",
    "        global linesEndpoints\n",
    "        linesEndpoints.append([minval, maxval])\n",
    "    \n",
    "    #izbrisi nepostojecu liniju\n",
    "    if linesExpected != len(linesEndpoints):\n",
    "        linesEndpoints.pop()\n",
    "        \n",
    "    print 'linesEndpoints: ' + str(linesEndpoints)"
   ]
  },
  {
   "cell_type": "code",
   "execution_count": 1431,
   "metadata": {
    "collapsed": true
   },
   "outputs": [],
   "source": [
    "def detectLines(image, linesExp):\n",
    "    #cv2.rectangle(image, (390,5), (610, 50), (0, 0, 0), -1)\n",
    "    gray = cv2.cvtColor(image, cv2.COLOR_BGR2GRAY)\n",
    "    #gray = cv2.dilate(gray, kernel)\n",
    "    gray = cv2.erode(gray, kernel)\n",
    "    edges = cv2.Canny(gray, 50, 150, apertureSize = 5)  #50,150,3    \n",
    "    \n",
    "    minLineLength = 20\n",
    "    maxLineGap = 10\n",
    "    \n",
    "    lines = cv2.HoughLinesP(edges,1,np.pi/180,100,minLineLength,maxLineGap)\n",
    "    #print 'lines detected: ' + str(len(lines))\n",
    "    \n",
    "    #print str(lines)\n",
    "    \n",
    "    frm = np.zeros((image.shape[0],image.shape[1],3), np.uint8)  \n",
    "    \n",
    "    coeffs = []\n",
    "    lineCount = 0\n",
    "    for line in lines:\n",
    "        x1, y1, x2, y2 = line[0]\n",
    "        cv2.line(frm,(x1,y1),(x2,y2),(0,255,0),2)\n",
    "        kn = calcLineCoeff(x1, y1, x2, y2)            \n",
    "        coeffs.append(kn)\n",
    "        cv2.line(frm,(x1,y1),(x2,y2),(0,255,0),2)         \n",
    "        lineCount+=1\n",
    "    coeffs = np.float32(coeffs)\n",
    "        \n",
    "    #points = []\n",
    "    #for line in lines:\n",
    "    #    x1, y1, x2, y2 = line[0]\n",
    "    #    points.append([x1, y1])\n",
    "    #    points.append([x2, y2])\n",
    "    #points = np.float32(points)   \n",
    "    \n",
    "    # define criteria and apply kmeans()\n",
    "    criteria = (cv2.TERM_CRITERIA_EPS + cv2.TERM_CRITERIA_MAX_ITER, 10, 1.0)\n",
    "    ret,label,center=cv2.kmeans(coeffs,linesExp,None,criteria,10,cv2.KMEANS_RANDOM_CENTERS)\n",
    "    #print str(label)\n",
    "    \n",
    "    #plotdata\n",
    "    plt.scatter(coeffs[:,0],coeffs[:,1],c = 'r')\n",
    "    plt.scatter(center[:,0],center[:,1],s = 80,c = 'y', marker = 's')\n",
    "    plt.xlabel('k - koeficijent pravca'),plt.ylabel('n - odsecak na y-osi')\n",
    "    plt.show()\n",
    "\n",
    "    #labeledLines = np.hstack((label, lines))\n",
    "    #global linesEndpoints\n",
    "    calcLinesEndpoints(label, lines)\n",
    "    \n",
    "    #labeled = groupLinesByKCenters(center, coeffs, tol)\n",
    "    #iscrtaj krajeve linija\n",
    "    for line in linesEndpoints:\n",
    "        cv2.circle(frm, line[0], 5, (255, 255, 0), 2)\n",
    "        cv2.circle(frm, line[1], 5, (255, 255, 0), 2)\n",
    "    plt.imshow(edges)    \n",
    "    #plt.imshow(frm, cmap='gray', interpolation='nearest')"
   ]
  },
  {
   "cell_type": "code",
   "execution_count": 1432,
   "metadata": {
    "collapsed": true
   },
   "outputs": [],
   "source": [
    "def transformDigitPosition1(patch, dim):\n",
    "    #patch = patch.astype(np.uint8)\n",
    "    x,y,w,h = cv2.boundingRect(patch)\n",
    "    patch = patch[y:y+h, x:x+w]        \n",
    "    hgap = np.zeros((dim-h, w))\n",
    "    patch = np.vstack((patch, hgap))\n",
    "    vgap = np.zeros((dim, dim-w))\n",
    "    patch = np.hstack((patch, vgap))    \n",
    "    return patch"
   ]
  },
  {
   "cell_type": "code",
   "execution_count": 1433,
   "metadata": {
    "collapsed": false
   },
   "outputs": [],
   "source": [
    "def transformDigitPosition(patch, dim):\n",
    "    x = 0\n",
    "    y = 0\n",
    "    w = 0\n",
    "    h = 0    \n",
    "    #east\n",
    "    for i in range(patch.shape[0]):\n",
    "        col = patch[:,i]\n",
    "        if np.argmax(col) > 0:\n",
    "            x = i\n",
    "            break\n",
    "    #west        \n",
    "    for i in reversed(range(patch.shape[0])):\n",
    "        col = patch[:,i]\n",
    "        if np.argmax(col) > 0:\n",
    "            w = i - x\n",
    "            break    \n",
    "    #north\n",
    "    for i in range(patch.shape[1]):\n",
    "        row = patch[i,:]\n",
    "        if np.argmax(row) > 0:\n",
    "            y = i\n",
    "            break    \n",
    "    #south\n",
    "    for i in reversed(range(patch.shape[1])):\n",
    "        row = patch[i,:]\n",
    "        if np.argmax(row) > 0:\n",
    "            h = i - y\n",
    "            break\n",
    "    h+=1\n",
    "    w+=1\n",
    "    patch = patch[y:y+h, x:x+w]\n",
    "    hgap = np.zeros((dim-h, w))\n",
    "    patch = np.vstack((patch, hgap))\n",
    "    vgap = np.zeros((dim, dim-w))\n",
    "    patch = np.hstack((patch, vgap))\n",
    "    #ret,img = cv2.threshold(img,10,255,0)\n",
    "    return patch        \n",
    "    "
   ]
  },
  {
   "cell_type": "code",
   "execution_count": 1434,
   "metadata": {
    "collapsed": false
   },
   "outputs": [
    {
     "name": "stdout",
     "output_type": "stream",
     "text": [
      "3\n"
     ]
    },
    {
     "data": {
      "text/plain": [
       "<matplotlib.image.AxesImage at 0x4f8f00f0>"
      ]
     },
     "execution_count": 1434,
     "metadata": {},
     "output_type": "execute_result"
    },
    {
     "data": {
      "image/png": "[encoded data removed]",
      "text/plain": [
       "<matplotlib.figure.Figure at 0x5012f550>"
      ]
     },
     "metadata": {},
     "output_type": "display_data"
    }
   ],
   "source": [
    "#import cv2\n",
    "no = 600\n",
    "img = train_data[no].reshape(28,28)*255\n",
    "print train_labels[no]\n",
    "img = np.array(img, dtype='uint8')\n",
    "#ret,img = cv2.threshold(img,10,255,0)\n",
    "#x,y,w,h = cv2.boundingRect(img)\n",
    "#cv2.rectangle(img,(x-1,y-1),(x+w,y+h),255,1)\n",
    "#img = img[y:y+h, x:x+w] \n",
    "#print img\n",
    "img = transformDigitPosition(img, 28)\n",
    "plt.imshow(img)\n",
    "#plt.imsave('output/test.png', img)"
   ]
  },
  {
   "cell_type": "markdown",
   "metadata": {},
   "source": [
    "## KNN - train"
   ]
  },
  {
   "cell_type": "code",
   "execution_count": 1435,
   "metadata": {
    "collapsed": false,
    "scrolled": true
   },
   "outputs": [
    {
     "data": {
      "text/plain": [
       "True"
      ]
     },
     "execution_count": 1435,
     "metadata": {},
     "output_type": "execute_result"
    }
   ],
   "source": [
    "img = cv2.imread('images/digits.png')\n",
    "\n",
    "#lower = np.array(lower, dtype = \"uint8\")\n",
    "#upper = np.array(upper, dtype = \"uint8\")\n",
    "#mask = cv2.inRange(img, lower, upper)\n",
    "#img = 1*mask        \n",
    "\n",
    "#img = cv2.dilate(img,kernel) #cv2.erode(img0,kernel)\n",
    "#img = cv2.dilate(img,kernel)\n",
    " \n",
    "gray = cv2.cvtColor(img,cv2.COLOR_BGR2GRAY)    \n",
    "\n",
    "# Now we split the image to 5000 cells, each 20x20 size\n",
    "cells = [np.hsplit(row,100) for row in np.vsplit(gray,50)]\n",
    "\n",
    "#print 'cells Type: ' + str(cells[0][0])\n",
    "ccc=0\n",
    "#for i in range(len(cells)):\n",
    "#    for j in range(len(cells[i])):\n",
    "#        ccc+=1        \n",
    "#        cells[i][j] = transformDigitPosition(cells[i][j], 20)\n",
    "#        plt.imsave('output/train_sample/' + str(ccc) + '.png', cells[i][j])  \n",
    "\n",
    "# Make it into a Numpy array. It size will be (50,100,20,20)\n",
    "#x = np.array(cells)\n",
    "\n",
    "###############################################\n",
    "train_data_2 = np.zeros((data.shape[0], 400 ))\n",
    "train_labels_2 = labels.copy()\n",
    "\n",
    "if os.path.isfile('output/train_data/knn_data.npz'):\n",
    "    #load data\n",
    "    with np.load('output/train_data/knn_data.npz') as filedata:\n",
    "        #print data.files\n",
    "        train_data_2 = filedata['train']\n",
    "        train_labels_2 = filedata['train_labels']\n",
    "        \n",
    "else:    \n",
    "    for i in range(len(train_data_2)):\n",
    "        ccc+=1\n",
    "        img = data[i].reshape(28,28)*255\n",
    "        train_data_2[i] = transformDigitPosition(img, 20).reshape(400)\n",
    "        plt.imsave('output/train_sample/' + str(ccc) + '.png', train_data_2[i].reshape(20,20))\n",
    "    \n",
    "    train_data_2 = train_data_2.astype(np.float32)\n",
    "\n",
    "    # save the data\n",
    "    np.savez('output/train_data/knn_data.npz',train=train_data_2, train_labels=train_labels_2)\n",
    "\n",
    "###############################################\n",
    "\n",
    "# Now we prepare train_data and test_data.\n",
    "#train_1 = x[:,:100].reshape(-1,400).astype(np.float32) # Size = (2500,400)\n",
    "#test = x[:,50:100].reshape(-1,400).astype(np.float32) # Size = (2500,400)\n",
    " \n",
    "# Create labels for train and test data\n",
    "k = np.arange(10)\n",
    "train_labels_1 = np.repeat(k,500)[:,np.newaxis]\n",
    "\n",
    "#test_labels = train_labels.copy()\n",
    "#test_labels = np.repeat(k, 250)[:, np.newaxis]\n",
    "\n",
    "# Initiate kNN, train the data, then test it with test data for k=1\n",
    "knn = cv2.ml.KNearest_create()\n",
    "#knn.train(train_1, cv2.ml.ROW_SAMPLE, train_labels_1)\n",
    "knn.train(train_data_2, cv2.ml.ROW_SAMPLE, train_labels_2)\n",
    "#ret,result,neighbours,dist = knn.findNearest(test,k=1)\n",
    "\n",
    "# Now we check the accuracy of classification\n",
    "# For that, compare the result with test_labels and check which are wrong\n",
    "#matches = result==test_labels\n",
    "#correct = np.count_nonzero(matches)\n",
    "#accuracy = correct*100.0/result.size\n",
    "#print 'accuracy: ' + str(accuracy)"
   ]
  },
  {
   "cell_type": "markdown",
   "metadata": {},
   "source": [
    "## Glavna petlja"
   ]
  },
  {
   "cell_type": "code",
   "execution_count": 1436,
   "metadata": {
    "collapsed": false,
    "scrolled": false
   },
   "outputs": [
    {
     "data": {
      "image/png": "[encoded data removed]",
      "text/plain": [
       "<matplotlib.figure.Figure at 0x4e452d30>"
      ]
     },
     "metadata": {},
     "output_type": "display_data"
    },
    {
     "name": "stdout",
     "output_type": "stream",
     "text": [
      "linesEndpoints: [[(209, 264), (408, 115)], [(99, 407), (335, 265)]]\n",
      "id:10 value:2\n",
      "id:3 value:0\n",
      "id:9 value:3\n",
      "id:12 value:5\n",
      "id:8 value:2\n",
      "id:6 value:4\n",
      "mean 14.56 ms\n"
     ]
    },
    {
     "data": {
      "image/png": "[encoded data removed]",
      "text/plain": [
       "<matplotlib.figure.Figure at 0x4fa60898>"
      ]
     },
     "metadata": {},
     "output_type": "display_data"
    }
   ],
   "source": [
    "patchCounter = 0\n",
    "frameCounter = 0\n",
    "plotCounter = 0\n",
    "#fig = plt.figure()\n",
    "while(1):\n",
    "    \n",
    "    frameCounter += 1 \n",
    "    start_time = time.time()\n",
    "    ret, img = cap.read()\n",
    "    #print ret, img\n",
    "\n",
    "    if ret == False:\n",
    "        break\n",
    "        \n",
    "    if (frameCounter == 1):\n",
    "        detectLines(img, linesExpected)\n",
    "    \n",
    "    #########################\n",
    "    if (frameCounter == 200):\n",
    "        break\n",
    "\n",
    "    # create NumPy arrays from the boundaries\n",
    "    lower = np.array(lower, dtype = \"uint8\")\n",
    "    upper = np.array(upper, dtype = \"uint8\")\n",
    "    #print('lower: ' + str(lower) + ' -- ' + 'upper: ' + str(upper))\n",
    "    mask = cv2.inRange(img, lower, upper)\n",
    "    img0 = 1.0*mask        \n",
    "\n",
    "    img0 = cv2.dilate(img0,kernel) #cv2.erode(img0,kernel)\n",
    "    img0 = cv2.dilate(img0,kernel)  \n",
    "    \n",
    "    labeled, nr_objects = ndimage.label(img0)    \n",
    "    objects = ndimage.find_objects(labeled)\n",
    "    \n",
    "    for i in range(nr_objects):\n",
    "        #za svaki pronadjen objekat racunamo centar (xc, yc) i velicinu (dxc, dyc)\n",
    "        loc = objects[i]\n",
    "        (xc,yc) = ((loc[1].stop + loc[1].start)/2,\n",
    "                   (loc[0].stop + loc[0].start)/2)\n",
    "        (dxc,dyc) = ((loc[1].stop - loc[1].start),\n",
    "                   (loc[0].stop - loc[0].start))      \n",
    "        \n",
    "        #ako je velicina pronadjenog objekta veca od 11 po nekoj od osa, verovatno se radi o broju\n",
    "        if(dxc>11 or dyc>11):\n",
    "            #cv2.circle(img, (xc,yc), 16, (25, 25, 255), 1)\n",
    "            #cv2.rectangle(img,(xc-14, yc-14),(xc+14,yc+14),(0,255,0),3)\n",
    "            elem = {'center':(xc,yc), 'size':(dxc,dyc), 't':t}  \n",
    "            \n",
    "            # find in range\n",
    "            lst = inRange(30, elem, elements)\n",
    "            nn = len(lst)\n",
    "            if nn == 0:\n",
    "                elem['id'] = nextId()\n",
    "                elem['t'] = t\n",
    "                elem['pass'] = [False] if linesExpected == 1 else [False, False]\n",
    "                elem['history'] = [{'center':(xc,yc), 'size':(dxc,dyc), 't':t}]\n",
    "                elem['future'] = []\n",
    "                elem['value'] = None\n",
    "                ###################################################\n",
    "                blok_loc = (xc-10, yc-10)\n",
    "                imgB = img0[yc-10:yc+10,\n",
    "                        xc-10:xc+10]\n",
    "                imgB = cv2.erode(imgB, kernel)\n",
    "                #imgB = cv2.erode(imgB, kernel)\n",
    "                (h,w) = imgB.shape\n",
    "                if (h*w == 400):\n",
    "                    patchCounter+=1\n",
    "                    #plt.imsave('output/' + str(frameCounter) + '-' + str(el['id']) + '.png', img)\n",
    "                    elem['patch'] = imgB\n",
    "                ###################################################\n",
    "                elements.append(elem)\n",
    "            elif nn == 1:\n",
    "                lst[0]['center'] = elem['center']\n",
    "                lst[0]['t'] = t\n",
    "                lst[0]['history'].append({'center':(xc,yc), 'size':(dxc,dyc), 't':t}) \n",
    "                lst[0]['future'] = []               \n",
    "                        \n",
    "    for el in elements:\n",
    "        tt = t - el['t']\n",
    "        if(tt<3):\n",
    "            cl = [(25, 255, 255), (255, 255, 25)]\n",
    "            for le in range(len(linesEndpoints)):\n",
    "                dist, pnt, r = pnt2line(el['center'], linesEndpoints[le][0], linesEndpoints[le][1])\n",
    "                if r>0:\n",
    "                    #cv2.line(img, pnt, el['center'], cl[le], 1)\n",
    "                    c = (25, 25, 255)\n",
    "                    if(dist<9):\n",
    "                        c = (0, 255, 160)\n",
    "                        if el['pass'][le] == False:\n",
    "                            el['pass'][le] = True\n",
    "                            #addId(str(el['id']) + '_' + str(le), el['patch'])\n",
    "                            patch = np.array(el['patch'])\n",
    "                            patch = np.uint8(patch)\n",
    "                            patch = transformDigitPosition(patch, 20)\n",
    "                            original = patch.copy()\n",
    "                            patch = np.float32(patch.reshape(-1,400))                            \n",
    "                            ret,result,neighbours,dist = knn.findNearest(patch, k=1)\n",
    "                            print 'id:' + str(el['id']) + ' value:'+ str(int(ret))\n",
    "                            plt.imsave('output/prediction/'+ lvl + '/' + video + '/' \n",
    "                                       + str(counter) + '_id-' + str(el['id']) + '_val-' + str(int(ret)) + '.png', original)\n",
    "                            counter += 1\n",
    "\n",
    "            cv2.circle(img, el['center'], 16, c, 2)\n",
    "\n",
    "            id = el['id']\n",
    "            cv2.putText(img, str(el['id']), \n",
    "                (el['center'][0]+10, el['center'][1]+10), \n",
    "                cv2.FONT_HERSHEY_SIMPLEX, 1, 255)\n",
    "            \n",
    "            #iscrtavanje zutih krugova na prethodnim lokacijama objekata\n",
    "            for hist in el['history']:\n",
    "                ttt = t-hist['t']\n",
    "                #if(ttt<100):\n",
    "                    #cv2.circle(img, hist['center'], 1, (0, 255, 255), 1)\n",
    "\n",
    "            for fu in el['future']:\n",
    "                ttt = fu[0]-t\n",
    "                if(ttt<100):\n",
    "                    cv2.circle(img, (fu[1], fu[2]), 1, (255, 255, 0), 1)\n",
    "                    \n",
    "    #iscrtaj krajeve linija\n",
    "    for line in linesEndpoints:\n",
    "        cv2.circle(img, line[0], 5, (255, 255, 0), 2)\n",
    "        cv2.circle(img, line[1], 5, (255, 255, 0), 2)\n",
    "                    \n",
    "    elapsed_time = time.time() - start_time\n",
    "    times.append(elapsed_time*1000)\n",
    "    cv2.putText(img, 'Counter: '+str(counter), (400, 90), cv2.FONT_HERSHEY_SIMPLEX, 1,(90,90,255),2)\n",
    "    \n",
    "    #if (frameCounter == 600):\n",
    "    #    plt.imsave('output/aaa.png', img0)\n",
    "\n",
    "    #print nr_objects\n",
    "    t += 1\n",
    "    #if t%10==0:\n",
    "        #print t\n",
    "    cv2.imshow('frame', img)\n",
    "    k = cv2.waitKey(1) & 0xff\n",
    "    if k == 27:\n",
    "        pause()\n",
    "    out.write(img)    \n",
    "    #print 'frame: ' + str(frameCounter) + ' [END]'\n",
    "out.release()        \n",
    "cap.release()\n",
    "cv2.destroyAllWindows()\n",
    "\n",
    "et = np.array(times)\n",
    "print 'mean %.2f ms'%(np.mean(et))\n",
    "#print np.std(et)"
   ]
  },
  {
   "cell_type": "markdown",
   "metadata": {},
   "source": [
    "## ANN"
   ]
  },
  {
   "cell_type": "code",
   "execution_count": 1437,
   "metadata": {
    "collapsed": false,
    "scrolled": true
   },
   "outputs": [],
   "source": [
    "#keys = passIDs.keys()\n",
    "#result = 0\n",
    "#for k in keys:\n",
    "#    imgB = passIDs[k]\n",
    "#    (h,w) = imgB.shape\n",
    "#    if (h*w == 784):\n",
    "#        imgB_test = imgB.reshape(784)\n",
    "#        imgB_test = imgB_test/255.\n",
    "#        print 'za element sa id: ' + str(k)\n",
    "#        tt = model.predict(np.array([imgB_test]), verbose=1)\n",
    "#        rez_t = tt.argmax(axis=1)\n",
    "#        result += rez_t[0]\n",
    "#        print 'procenjena vrednost: ' + str(rez_t[0])\n",
    "#        print '---------------------------------------'\n",
    "        \n",
    "#print 'Ukupan zbir = ' + str(result)"
   ]
  }
 ],
 "metadata": {
  "anaconda-cloud": {},
  "kernelspec": {
   "display_name": "Python [default]",
   "language": "python",
   "name": "python2"
  },
  "language_info": {
   "codemirror_mode": {
    "name": "ipython",
    "version": 2
   },
   "file_extension": ".py",
   "mimetype": "text/x-python",
   "name": "python",
   "nbconvert_exporter": "python",
   "pygments_lexer": "ipython2",
   "version": "2.7.13"
  }
 },
 "nbformat": 4,
 "nbformat_minor": 0
}
